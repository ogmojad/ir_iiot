{
 "cells": [
  {
   "cell_type": "code",
   "execution_count": 1,
   "id": "1b1264e0-949d-459a-8bfa-7b5c7df0fb23",
   "metadata": {},
   "outputs": [
    {
     "name": "stderr",
     "output_type": "stream",
     "text": [
      "[nltk_data] Downloading package stopwords to\n",
      "[nltk_data]     C:\\Users\\HP\\AppData\\Roaming\\nltk_data...\n",
      "[nltk_data]   Package stopwords is already up-to-date!\n",
      "[nltk_data] Downloading package punkt to\n",
      "[nltk_data]     C:\\Users\\HP\\AppData\\Roaming\\nltk_data...\n",
      "[nltk_data]   Package punkt is already up-to-date!\n"
     ]
    }
   ],
   "source": [
    "import nltk\n",
    "from nltk.corpus import stopwords\n",
    "nltk.download('stopwords')\n",
    "nltk.download('punkt')\n",
    "from nltk.tokenize import word_tokenize\n",
    "from nltk.stem import PorterStemmer"
   ]
  },
  {
   "cell_type": "code",
   "execution_count": 4,
   "id": "8383ae3c-1a8f-460b-8787-5f284df00d2d",
   "metadata": {},
   "outputs": [
    {
     "name": "stdout",
     "output_type": "stream",
     "text": [
      "['the', 'quick', 'brown', 'fox', 'jumps', 'over', 'the', 'lazy', 'dog', 'while', 'the', 'dog', 'sleeps', 'the', 'fox', 'quickly', 'runs', 'to', 'the', 'nearby', 'forest']\n",
      "['quick', 'brown', 'fox', 'jumps', 'lazy', 'dog', 'dog', 'sleeps', 'fox', 'quickly', 'runs', 'nearby', 'forest']\n",
      "['quick', 'brown', 'fox', 'jump', 'lazi', 'dog', 'dog', 'sleep', 'fox', 'quickli', 'run', 'nearbi', 'forest']\n"
     ]
    }
   ],
   "source": [
    "text = 'The quick brown fox jumps over the lazy dog While the dog sleeps the fox quickly runs to the nearby forest'\n",
    "\n",
    "text=text.lower()\n",
    "tokens=word_tokenize(text)\n",
    "print(tokens)\n",
    "\n",
    "filteredtext=[word for word in tokens if word not in stopwords.words('english')]\n",
    "print(filteredtext)\n",
    "\n",
    "stemmer=PorterStemmer()\n",
    "stemmedtext=[stemmer.stem(word) for word in filteredtext]\n",
    "print(stemmedtext)"
   ]
  },
  {
   "cell_type": "code",
   "execution_count": null,
   "id": "8e306504-5f6a-4add-9bf6-2fd1d22d0492",
   "metadata": {},
   "outputs": [],
   "source": []
  }
 ],
 "metadata": {
  "kernelspec": {
   "display_name": "Python 3 (ipykernel)",
   "language": "python",
   "name": "python3"
  },
  "language_info": {
   "codemirror_mode": {
    "name": "ipython",
    "version": 3
   },
   "file_extension": ".py",
   "mimetype": "text/x-python",
   "name": "python",
   "nbconvert_exporter": "python",
   "pygments_lexer": "ipython3",
   "version": "3.12.3"
  }
 },
 "nbformat": 4,
 "nbformat_minor": 5
}

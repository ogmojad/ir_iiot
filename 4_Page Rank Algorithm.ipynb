{
 "cells": [
  {
   "cell_type": "code",
   "execution_count": 2,
   "id": "5f65d7ef-3c29-42c3-9894-eff8620f9731",
   "metadata": {},
   "outputs": [
    {
     "name": "stdout",
     "output_type": "stream",
     "text": [
      "PageRank values: {0: 0.43274853801169594, 1: 0.23391812865497078, 2: 0.3333333333333333}\n"
     ]
    }
   ],
   "source": [
    "def pagerank(graph, num_iterations=100, d=0.85):\n",
    "    n = len(graph)\n",
    "    ranks = {node: 1 / n for node in graph}  # Start with equal rank for each page\n",
    "\n",
    "    for _ in range(num_iterations):\n",
    "        new_ranks = {}\n",
    "        for node in graph:\n",
    "            # Calculate rank by summing contributions from each linking page\n",
    "            rank_sum = sum(ranks[neighbor] / len(graph[neighbor]) for neighbor in graph if node in graph[neighbor])\n",
    "            new_ranks[node] = (1 - d) / n + d * rank_sum  # Apply damping factor\n",
    "\n",
    "        ranks = new_ranks  # Update ranks for next iteration\n",
    "\n",
    "    return ranks\n",
    "\n",
    "# Example graph: each node has a list of pages it links to\n",
    "graph = {\n",
    "    0: [1, 2],\n",
    "    1: [0, 2],\n",
    "    2: [0]\n",
    "}\n",
    "\n",
    "print(\"PageRank values:\", pagerank(graph))\n"
   ]
  },
  {
   "cell_type": "code",
   "execution_count": null,
   "id": "e2bb6df2-af99-448d-b58f-da8432f037de",
   "metadata": {},
   "outputs": [],
   "source": []
  }
 ],
 "metadata": {
  "kernelspec": {
   "display_name": "Python 3 (ipykernel)",
   "language": "python",
   "name": "python3"
  },
  "language_info": {
   "codemirror_mode": {
    "name": "ipython",
    "version": 3
   },
   "file_extension": ".py",
   "mimetype": "text/x-python",
   "name": "python",
   "nbconvert_exporter": "python",
   "pygments_lexer": "ipython3",
   "version": "3.12.3"
  }
 },
 "nbformat": 4,
 "nbformat_minor": 5
}

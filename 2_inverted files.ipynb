{
 "cells": [
  {
   "cell_type": "code",
   "execution_count": null,
   "id": "1fa95819-60c8-4345-a09a-784bf5116350",
   "metadata": {},
   "outputs": [],
   "source": [
    "Implement a program for retrieval of documents using inverted files."
   ]
  },
  {
   "cell_type": "code",
   "execution_count": 1,
   "id": "efe2f342-02ce-4144-b809-1d66c3b741fe",
   "metadata": {},
   "outputs": [
    {
     "name": "stdout",
     "output_type": "stream",
     "text": [
      "Inverted Files:\n",
      "{\n",
      "    \"mango\": [\n",
      "        \"doc1\",\n",
      "        \"doc2\",\n",
      "        \"doc3\"\n",
      "    ],\n",
      "    \"apple\": [\n",
      "        \"doc1\",\n",
      "        \"doc4\"\n",
      "    ],\n",
      "    \"grapes\": [\n",
      "        \"doc1\",\n",
      "        \"doc3\",\n",
      "        \"doc4\"\n",
      "    ],\n",
      "    \"peas\": [\n",
      "        \"doc2\",\n",
      "        \"doc3\"\n",
      "    ]\n",
      "}\n",
      "Documents containing 'mango': ['doc1', 'doc2', 'doc3']\n",
      "Documents containing 'apple': ['doc1', 'doc4']\n"
     ]
    }
   ],
   "source": [
    "import json\n",
    "\n",
    "# Document collection\n",
    "docs = {\n",
    "    \"doc1\": [\"mango\", \"apple\", \"grapes\"],\n",
    "    \"doc2\": [\"peas\", \"mango\"],\n",
    "    \"doc3\": [\"mango\", \"grapes\", \"peas\"],\n",
    "    \"doc4\": [\"apple\", \"grapes\"]\n",
    "}\n",
    "\n",
    "# Building the inverted index\n",
    "inverted_files = {}\n",
    "\n",
    "for doc, fruits in docs.items():\n",
    "    for fruit in fruits:\n",
    "        if fruit not in inverted_files:\n",
    "            inverted_files[fruit] = [doc]\n",
    "        else:\n",
    "            inverted_files[fruit].append(doc)\n",
    "\n",
    "print('Inverted Files:')\n",
    "print(json.dumps(inverted_files, indent=4))\n",
    "\n",
    "# Search function\n",
    "def search_documents(query):\n",
    "    results = inverted_files.get(query, [])\n",
    "    return results\n",
    "\n",
    "# Example search queries\n",
    "print(\"Documents containing 'mango':\", search_documents(\"mango\"))\n",
    "print(\"Documents containing 'apple':\", search_documents(\"apple\"))\n"
   ]
  },
  {
   "cell_type": "code",
   "execution_count": null,
   "id": "41c61f0f-e46c-40f4-88b0-11ec5fbbf614",
   "metadata": {},
   "outputs": [],
   "source": []
  }
 ],
 "metadata": {
  "kernelspec": {
   "display_name": "Python 3 (ipykernel)",
   "language": "python",
   "name": "python3"
  },
  "language_info": {
   "codemirror_mode": {
    "name": "ipython",
    "version": 3
   },
   "file_extension": ".py",
   "mimetype": "text/x-python",
   "name": "python",
   "nbconvert_exporter": "python",
   "pygments_lexer": "ipython3",
   "version": "3.12.3"
  }
 },
 "nbformat": 4,
 "nbformat_minor": 5
}

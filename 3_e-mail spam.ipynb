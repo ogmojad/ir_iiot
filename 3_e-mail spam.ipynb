{
 "cells": [
  {
   "cell_type": "code",
   "execution_count": 3,
   "id": "730e41cf-5d38-40e3-99f3-107edcb9222b",
   "metadata": {},
   "outputs": [],
   "source": [
    "import pandas as pd, numpy as np\n",
    "from sklearn.metrics import accuracy_score\n",
    "from sklearn.svm import SVC\n",
    "from sklearn.model_selection import train_test_split\n",
    "from sklearn.feature_extraction.text import CountVectorizer\n",
    "from sklearn.preprocessing import LabelEncoder\n",
    "\n",
    "df = pd.read_csv(\"spam.csv\")"
   ]
  },
  {
   "cell_type": "code",
   "execution_count": 4,
   "id": "01cb5c83-c730-4968-b9c3-169f8d4b6c53",
   "metadata": {},
   "outputs": [
    {
     "name": "stdout",
     "output_type": "stream",
     "text": [
      "        v1                                                 v2\n",
      "0      ham  Go until jurong point, crazy.. Available only ...\n",
      "1      ham                      Ok lar... Joking wif u oni...\n",
      "2     spam  Free entry in 2 a wkly comp to win FA Cup fina...\n",
      "3      ham  U dun say so early hor... U c already then say...\n",
      "4      ham  Nah I don't think he goes to usf, he lives aro...\n",
      "...    ...                                                ...\n",
      "5566  spam  This is the 2nd time we have tried 2 contact u...\n",
      "5567   ham              Will �_ b going to esplanade fr home?\n",
      "5568   ham  Pity, * was in mood for that. So...any other s...\n",
      "5569   ham  The guy did some bitching but I acted like i'd...\n",
      "5570   ham                         Rofl. Its true to its name\n",
      "\n",
      "[5571 rows x 2 columns]\n",
      "v1    0\n",
      "v2    1\n",
      "dtype: int64\n"
     ]
    }
   ],
   "source": [
    "df = df.iloc[:, :2]\n",
    "print(df)\n",
    "print(df.isnull().sum())\n",
    "df.dropna(inplace=True)"
   ]
  },
  {
   "cell_type": "code",
   "execution_count": 5,
   "id": "54c9b6a1-c03c-465e-8547-6b1658b90dd1",
   "metadata": {},
   "outputs": [],
   "source": [
    "cv = CountVectorizer()\n",
    "labelenc = LabelEncoder()\n",
    "\n",
    "x = cv.fit_transform(df['v2']) \n",
    "y = labelenc.fit_transform(df['v1'])"
   ]
  },
  {
   "cell_type": "code",
   "execution_count": 8,
   "id": "8e88404d-65df-4a6e-92af-41404efad18f",
   "metadata": {},
   "outputs": [
    {
     "name": "stdout",
     "output_type": "stream",
     "text": [
      "97.63101220387652\n"
     ]
    }
   ],
   "source": [
    "\n",
    "X_train, X_test, y_train, y_test = train_test_split(x, y, test_size=0.25, random_state=42)\n",
    "\n",
    "model = SVC()\n",
    "model.fit(X_train, y_train) # Changed from x_train to X_train\n",
    "\n",
    "model.score(X_test, y_test) # Changed from x_test to X_test\n",
    "y_pred=model.predict(X_test)\n",
    "print(accuracy_score(y_pred,y_test)*100)"
   ]
  },
  {
   "cell_type": "code",
   "execution_count": 9,
   "id": "26a39256-c8a4-4a24-af34-2ba5c1dc53af",
   "metadata": {},
   "outputs": [
    {
     "name": "stdout",
     "output_type": "stream",
     "text": [
      "                                       Email Content Actual Label  \\\n",
      "0  [say, think, now, and, not, me, they, right, a...          ham   \n",
      "1  [go, got, they, on, will, lor, dinner, who, ti...          ham   \n",
      "2  [there, to, don, it, they, the, on, stuff, fro...          ham   \n",
      "3  [go, wif, then, now, my, going, aft, lunch, st...          ham   \n",
      "4  [dun, will, if, feel, da, lunch, lor, meet, di...          ham   \n",
      "\n",
      "  Predicted Label  \n",
      "0             ham  \n",
      "1             ham  \n",
      "2             ham  \n",
      "3             ham  \n",
      "4             ham  \n"
     ]
    }
   ],
   "source": [
    "# Decode the labels back to their original form for easy interpretation\n",
    "y_test_labels = labelenc.inverse_transform(y_test)\n",
    "y_pred_labels = labelenc.inverse_transform(y_pred)\n",
    "\n",
    "# Create a DataFrame to show the email content with predicted and actual labels\n",
    "output_df = pd.DataFrame({\n",
    "    'Email Content': cv.inverse_transform(X_test),\n",
    "    'Actual Label': y_test_labels,\n",
    "    'Predicted Label': y_pred_labels\n",
    "})\n",
    "\n",
    "# Display the first few rows of the DataFrame\n",
    "print(output_df.head())"
   ]
  },
  {
   "cell_type": "code",
   "execution_count": null,
   "id": "2dc3db69-7a89-4bcb-b98f-785a7e8b65a3",
   "metadata": {},
   "outputs": [],
   "source": []
  }
 ],
 "metadata": {
  "kernelspec": {
   "display_name": "Python 3 (ipykernel)",
   "language": "python",
   "name": "python3"
  },
  "language_info": {
   "codemirror_mode": {
    "name": "ipython",
    "version": 3
   },
   "file_extension": ".py",
   "mimetype": "text/x-python",
   "name": "python",
   "nbconvert_exporter": "python",
   "pygments_lexer": "ipython3",
   "version": "3.12.3"
  }
 },
 "nbformat": 4,
 "nbformat_minor": 5
}
